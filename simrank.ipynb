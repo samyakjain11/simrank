{
 "cells": [
  {
   "cell_type": "code",
   "execution_count": 37,
   "metadata": {},
   "outputs": [],
   "source": [
    "from collections import defaultdict\n",
    "import numpy as np"
   ]
  },
  {
   "cell_type": "code",
   "execution_count": 38,
   "metadata": {},
   "outputs": [],
   "source": [
    "def read(filename):\n",
    "    users = set()\n",
    "    user_directed_graph =  defaultdict(lambda: defaultdict(float))\n",
    "\n",
    "    ads = set()\n",
    "    ads_directed_graph = defaultdict(lambda: defaultdict(float))\n",
    "\n",
    "    input = open(filename, 'r')\n",
    "    num_entries = int(input.readline())\n",
    "\n",
    "    for i in range(num_entries):\n",
    "        unformatted = input.readline()[:-1].split(',')\n",
    "        score = float(unformatted[-1])\n",
    "        unformatted.pop()\n",
    "        cur_user, cur_ad = [int(entry) for entry in unformatted]\n",
    "        users.add(cur_user)\n",
    "        user_directed_graph[cur_user][cur_ad] = score\n",
    "\n",
    "        ads.add(cur_ad)\n",
    "        ads_directed_graph[cur_ad][cur_user] = score\n",
    "\n",
    "    predict_user, predict_ad = [int(entry) for entry in input.readline().split(',')]\n",
    "    \n",
    "    return users, user_directed_graph, ads, ads_directed_graph, predict_user, predict_ad\n",
    "\n"
   ]
  },
  {
   "cell_type": "code",
   "execution_count": 39,
   "metadata": {},
   "outputs": [],
   "source": [
    "def simple_simrank(users, user_directed_graph, ads, ads_directed_graph):\n",
    "    # note that this runs simrank with the partial sums memoization trick!\n",
    "    C1 = C2 = 0.8\n",
    "    similarity_user = defaultdict(lambda: defaultdict(float))\n",
    "    similarity_ads = defaultdict(lambda: defaultdict(float))\n",
    "\n",
    "    for u in users:\n",
    "        similarity_user[u][u] = 1.0\n",
    "    \n",
    "    for a in ads:\n",
    "        similarity_ads[a][a] = 1.0\n",
    "\n",
    "    partial_user = defaultdict(lambda: defaultdict(float))\n",
    "    partial_ads = defaultdict(lambda: defaultdict(float))\n",
    "\n",
    "\n",
    "    for iter in range(10):\n",
    "        for u in users:\n",
    "            for a in ads:\n",
    "                temp = 0.0\n",
    "                for u_ads in user_directed_graph[u]:\n",
    "                    temp += similarity_ads[u_ads][a]\n",
    "                partial_user[u][a] = temp\n",
    "        \n",
    "        list_users = list(users)\n",
    "        for i in range(len(list_users)):\n",
    "            for j in range(i + 1, len(list_users)):\n",
    "                temp = 0.0\n",
    "                u1, u2 = list_users[i], list_users[j]\n",
    "                for a in user_directed_graph[u2]:\n",
    "                    temp += partial_user[u1][a]\n",
    "                similarity_user[u1][u2] = similarity_user[u2][u1] =  C1 / (len(user_directed_graph[u1])*len(user_directed_graph[u2])) * temp\n",
    "    \n",
    "        for a in ads:\n",
    "            for u in users:\n",
    "                temp = 0.0\n",
    "                for a_user in ads_directed_graph[a]:\n",
    "                    temp += similarity_user[a_user][u]\n",
    "                partial_ads[a][u] = temp\n",
    "        \n",
    "        list_ads = list(ads)\n",
    "        for i in range(len(list_ads)):\n",
    "            for j in range(i+1, len(list_ads)):\n",
    "                temp = 0.0\n",
    "                a1, a2 = list_ads[i], list_ads[j]\n",
    "                for k in ads_directed_graph[a2]:\n",
    "                    temp += partial_ads[a1][k]\n",
    "                similarity_ads[a1][a2] = similarity_ads[a2][a1] = C2 / (len(ads_directed_graph[a1])*len(ads_directed_graph[a2])) * temp\n",
    "            \n",
    "    return similarity_user, similarity_ads\n",
    "                "
   ]
  },
  {
   "cell_type": "code",
   "execution_count": 50,
   "metadata": {},
   "outputs": [],
   "source": [
    "def geometric_evidence(similarity_ads, ads_directed_graph, ads, similarity_users, user_directed_graph, users):\n",
    "    print(similarity_ads)\n",
    "    copy_ads = list(ads)\n",
    "    for i in range(len(copy_ads)):\n",
    "        for j in range(i + 1, len(copy_ads)):\n",
    "            a1, a2 = copy_ads[i], copy_ads[j]\n",
    "            a1_neighbors, a2_neighbors = ads_directed_graph[a1], ads_directed_graph[a2]\n",
    "\n",
    "            evidence_sum = 0.0\n",
    "            # starting adn ending 1 later to account for offset\n",
    "            for power in range(1, len(set(a1_neighbors).intersection(set(a2_neighbors))) + 1):\n",
    "                evidence_sum += (1/2)**power\n",
    "            \n",
    "            similarity_ads[a1][a2] *= evidence_sum\n",
    "            similarity_ads[a2][a1] = similarity_ads[a1][a2]\n",
    "    print(similarity_ads)\n",
    "    \n",
    "    copy_users = list(users)\n",
    "    for i in range(len(copy_users)):\n",
    "        for j in range(i + 1, len(copy_users)):\n",
    "            u1, u2 = copy_users[i], copy_users[j]\n",
    "            if u1 == 1 and u2 == 4:\n",
    "                print('hello')\n",
    "            u1_neighbors, u2_neighbors = user_directed_graph[u1].keys(), user_directed_graph[u2].keys()\n",
    "\n",
    "            evidence_sum = 0.0\n",
    "            # starting adn ending 1 later to account for offset\n",
    "            for power in range(1, len(set(u1_neighbors).intersection(set(u2_neighbors))) + 1):\n",
    "                evidence_sum += (1/2)**power\n",
    "            \n",
    "            similarity_users[u1][u2] *= evidence_sum\n",
    "            similarity_users[u2][u1] = similarity_users[u1][u2]\n",
    "    \n",
    "    \n",
    "    return similarity_users, similarity_ads"
   ]
  },
  {
   "cell_type": "code",
   "execution_count": 51,
   "metadata": {},
   "outputs": [],
   "source": [
    "def fetch_top3(to_predict, similarity):\n",
    "    res = []\n",
    "    temp = similarity[to_predict].items()\n",
    "    # return temp\n",
    "    value_key = {}\n",
    "    for k,v in temp:\n",
    "        if k != to_predict:\n",
    "            if v not in list(value_key.keys()):\n",
    "                value_key[v] = k\n",
    "                res.append((k,v))\n",
    "            else:\n",
    "                if k < value_key[v]:\n",
    "                    res.remove((value_key[v], v))\n",
    "                    value_key[v] = k\n",
    "                    res.append((k,v))\n",
    "                    \n",
    "    res = sorted(res, reverse=True, key= lambda x: (x[1], -x[0]))\n",
    "\n",
    "    \n",
    "\n",
    "    return res[:3]"
   ]
  },
  {
   "cell_type": "code",
   "execution_count": 52,
   "metadata": {},
   "outputs": [
    {
     "data": {
      "text/plain": [
       "([(2, 0.6186308753930624), (4, 0.4372617507861247), (5, 0.0)],\n",
       " [(38, 0.5465819558350666), (1235, 0.0)])"
      ]
     },
     "execution_count": 52,
     "metadata": {},
     "output_type": "execute_result"
    }
   ],
   "source": [
    "users, user_directed_graph, ads, ads_directed_graph, predict_user, predict_ad = read(filename='sample_input.txt')\n",
    "# similarity_user, similarity_ads = simrank(users, ads, user_directed_graph, ads_directed_graph, 10, 0.8, 0.8)\n",
    "similarity_user, similarity_ads = simple_simrank(users, user_directed_graph, ads, ads_directed_graph)\n",
    "# similarity_user, similarity_ads = geometric_evidence(similarity_ads, ads_directed_graph, ads, similarity_user, user_directed_graph, users)\n",
    "\n",
    "top3_users = fetch_top3(predict_user, similarity_user)\n",
    "top3_ads = fetch_top3(predict_ad, similarity_ads)\n",
    "top3_users, top3_ads"
   ]
  },
  {
   "cell_type": "code",
   "execution_count": 53,
   "metadata": {},
   "outputs": [
    {
     "name": "stdout",
     "output_type": "stream",
     "text": [
      "defaultdict(<function simple_simrank.<locals>.<lambda> at 0x12616e160>, {1235: defaultdict(<class 'float'>, {1235: 1.0, 20: 0.0, 38: 0.0, 8271: 0.8}), 20: defaultdict(<class 'float'>, {20: 1.0, 1235: 0.0, 38: 0.5465819558350666, 8271: 0.0}), 38: defaultdict(<class 'float'>, {38: 1.0, 1235: 0.0, 20: 0.5465819558350666, 8271: 0.0}), 8271: defaultdict(<class 'float'>, {8271: 1.0, 1235: 0.8, 20: 0.0, 38: 0.0})})\n",
      "defaultdict(<function simple_simrank.<locals>.<lambda> at 0x12616e160>, {1235: defaultdict(<class 'float'>, {1235: 1.0, 20: 0.0, 38: 0.0, 8271: 0.4}), 20: defaultdict(<class 'float'>, {20: 1.0, 1235: 0.0, 38: 0.4099364668763, 8271: 0.0}), 38: defaultdict(<class 'float'>, {38: 1.0, 1235: 0.0, 20: 0.4099364668763, 8271: 0.0}), 8271: defaultdict(<class 'float'>, {8271: 1.0, 1235: 0.4, 20: 0.0, 38: 0.0})})\n",
      "hello\n"
     ]
    },
    {
     "data": {
      "text/plain": [
       "([(2, 0.3093154376965312), (4, 0.0)], [(38, 0.5465819558350666), (1235, 0.0)])"
      ]
     },
     "execution_count": 53,
     "metadata": {},
     "output_type": "execute_result"
    }
   ],
   "source": [
    "users, user_directed_graph, ads, ads_directed_graph, predict_user, predict_ad = read(filename='sample_input.txt')\n",
    "similarity_user, similarity_ads = simple_simrank(users, user_directed_graph, ads, ads_directed_graph)\n",
    "similarity_user, similarity_ads = geometric_evidence(similarity_ads, ads_directed_graph, ads, similarity_user, user_directed_graph, users)\n",
    "# similarity_user = evidence_geometric(similarity_user, user_directed_graph)\n",
    "\n",
    "top3_users = fetch_top3(predict_user, similarity_user)\n",
    "# top3_ads = fetch_top3(predict_ad, similarity_ads)\n",
    "top3_users, top3_ads"
   ]
  },
  {
   "cell_type": "code",
   "execution_count": null,
   "metadata": {},
   "outputs": [],
   "source": []
  }
 ],
 "metadata": {
  "kernelspec": {
   "display_name": "Python 3",
   "language": "python",
   "name": "python3"
  },
  "language_info": {
   "codemirror_mode": {
    "name": "ipython",
    "version": 3
   },
   "file_extension": ".py",
   "mimetype": "text/x-python",
   "name": "python",
   "nbconvert_exporter": "python",
   "pygments_lexer": "ipython3",
   "version": "3.9.6"
  },
  "orig_nbformat": 4
 },
 "nbformat": 4,
 "nbformat_minor": 2
}
